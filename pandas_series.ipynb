{
 "cells": [
  {
   "cell_type": "markdown",
   "id": "3f174142-ef4b-47db-9318-7635213e6b2b",
   "metadata": {
    "tags": []
   },
   "source": [
    "# Exercise Part I"
   ]
  },
  {
   "cell_type": "markdown",
   "id": "32fe0d67-ff72-4521-8ee8-51209881074b",
   "metadata": {},
   "source": [
    "Use pandas to create a Series named fruits from the following list:\n",
    "\n",
    "[\"kiwi\", \"mango\", \"strawberry\", \"pineapple\", \"gala apple\", \"honeycrisp apple\", \"tomato\", \"watermelon\", \"honeydew\", \"kiwi\", \"kiwi\", \"kiwi\", \"mango\", \"blueberry\", \"blackberry\", \"gooseberry\", \"papaya\"]\n",
    "\n",
    "Use Series attributes and methods to explore your fruits Series."
   ]
  },
  {
   "cell_type": "code",
   "execution_count": 3,
   "id": "aee05930-8f05-48e0-8069-52c719c9d455",
   "metadata": {
    "tags": []
   },
   "outputs": [
    {
     "name": "stdout",
     "output_type": "stream",
     "text": [
      "0                 kiwi\n",
      "1                mango\n",
      "2           strawberry\n",
      "3            pineapple\n",
      "4           gala apple\n",
      "5     honeycrisp apple\n",
      "6               tomato\n",
      "7           watermelon\n",
      "8             honeydew\n",
      "9                 kiwi\n",
      "10                kiwi\n",
      "11                kiwi\n",
      "12               mango\n",
      "13           blueberry\n",
      "14          blackberry\n",
      "15          gooseberry\n",
      "16              papaya\n",
      "dtype: object\n"
     ]
    }
   ],
   "source": [
    "import pandas as pd \n",
    "\n",
    "# Creating the series\n",
    "fruits = pd.Series([\"kiwi\", \"mango\", \"strawberry\", \"pineapple\", \"gala apple\", \"honeycrisp apple\", \"tomato\", \"watermelon\", \"honeydew\", \"kiwi\", \"kiwi\", \"kiwi\", \"mango\", \"blueberry\", \"blackberry\", \"gooseberry\", \"papaya\"])\n",
    "print(fruits)"
   ]
  },
  {
   "cell_type": "markdown",
   "id": "87da884a-d6bf-42b1-8e5b-aedc9248cdf3",
   "metadata": {},
   "source": [
    "# 1. Determine the number of elements in fruits."
   ]
  },
  {
   "cell_type": "code",
   "execution_count": 12,
   "id": "5d8922f4-8cbe-401c-ac9c-c541e3a5d36c",
   "metadata": {
    "tags": []
   },
   "outputs": [
    {
     "name": "stdout",
     "output_type": "stream",
     "text": [
      "Number of elements 17\n"
     ]
    }
   ],
   "source": [
    "# number of elements in the series\n",
    "print(\"Number of elements\", len(fruits))"
   ]
  },
  {
   "cell_type": "markdown",
   "id": "e5a9619d-d751-41f1-b7b8-a7116327b2de",
   "metadata": {},
   "source": [
    "# 2. Output only the index from fruits."
   ]
  },
  {
   "cell_type": "code",
   "execution_count": 15,
   "id": "1e1eb1a1-c770-4de6-aadb-9615e683a432",
   "metadata": {
    "tags": []
   },
   "outputs": [
    {
     "name": "stdout",
     "output_type": "stream",
     "text": [
      "RangeIndex(start=0, stop=17, step=1)\n"
     ]
    }
   ],
   "source": [
    "print(fruits.index)"
   ]
  },
  {
   "cell_type": "markdown",
   "id": "e27e9b5a-1294-4f9d-ab3c-158b28ef428f",
   "metadata": {},
   "source": [
    "# 3. Output only the values from fruits."
   ]
  },
  {
   "cell_type": "code",
   "execution_count": 18,
   "id": "4a99c5c9-2919-451b-a36e-984002c80577",
   "metadata": {
    "tags": []
   },
   "outputs": [
    {
     "name": "stdout",
     "output_type": "stream",
     "text": [
      "kiwi                4\n",
      "mango               2\n",
      "strawberry          1\n",
      "pineapple           1\n",
      "gala apple          1\n",
      "honeycrisp apple    1\n",
      "tomato              1\n",
      "watermelon          1\n",
      "honeydew            1\n",
      "blueberry           1\n",
      "blackberry          1\n",
      "gooseberry          1\n",
      "papaya              1\n",
      "Name: count, dtype: int64\n"
     ]
    }
   ],
   "source": [
    "print(fruits.value_counts())"
   ]
  },
  {
   "cell_type": "markdown",
   "id": "4e0e1abb-6806-4ebe-9388-540a0f8f33bb",
   "metadata": {},
   "source": [
    "# 4. Confirm the data type of the values in fruits."
   ]
  },
  {
   "cell_type": "code",
   "execution_count": 21,
   "id": "4be79e1c-0706-4487-bc32-62e7d9a2d9d4",
   "metadata": {
    "tags": []
   },
   "outputs": [
    {
     "name": "stdout",
     "output_type": "stream",
     "text": [
      "object\n"
     ]
    }
   ],
   "source": [
    "print(fruits.dtype)"
   ]
  },
  {
   "cell_type": "markdown",
   "id": "eae4ac81-2fc8-48da-8dbe-a391e587a971",
   "metadata": {},
   "source": [
    "# 5. Output only the first five values from fruits. Output the last three values. Output two random values from fruits."
   ]
  },
  {
   "cell_type": "code",
   "execution_count": 24,
   "id": "e59abd96-dfb7-4f44-b8cc-c82b3d6a210f",
   "metadata": {
    "tags": []
   },
   "outputs": [
    {
     "name": "stdout",
     "output_type": "stream",
     "text": [
      "First 5 elements\n",
      "0          kiwi\n",
      "1         mango\n",
      "2    strawberry\n",
      "3     pineapple\n",
      "4    gala apple\n",
      "dtype: object\n",
      "\n",
      "\n",
      "Last 3 elements\n",
      "14    blackberry\n",
      "15    gooseberry\n",
      "16        papaya\n",
      "dtype: object\n",
      "\n",
      "\n",
      "2 random values\n",
      "12        mango\n",
      "3     pineapple\n",
      "dtype: object\n"
     ]
    }
   ],
   "source": [
    "print(\"First 5 elements\")\n",
    "print(fruits.head(5))\n",
    "print(\"\\n\")\n",
    "\n",
    "print(\"Last 3 elements\")\n",
    "print(fruits.tail(3))\n",
    "print(\"\\n\")\n",
    "\n",
    "print(\"2 random values\")\n",
    "print(fruits.sample(2))"
   ]
  },
  {
   "cell_type": "markdown",
   "id": "7af6adcc-e24b-4fa1-9e60-be995f982739",
   "metadata": {},
   "source": [
    "# 6. Run the .describe() on fruits to see what information it returns when called on a Series with string values."
   ]
  },
  {
   "cell_type": "code",
   "execution_count": 38,
   "id": "8d8b03e0-bd32-43e2-b574-b16ae4e8fcf0",
   "metadata": {
    "tags": []
   },
   "outputs": [
    {
     "name": "stdout",
     "output_type": "stream",
     "text": [
      "count       17\n",
      "unique      13\n",
      "top       kiwi\n",
      "freq         4\n",
      "dtype: object\n"
     ]
    }
   ],
   "source": [
    "print(fruits.describe())"
   ]
  },
  {
   "cell_type": "markdown",
   "id": "8e28d2ec-e94d-4362-b344-943753a24bee",
   "metadata": {},
   "source": [
    "# 7. Run the code necessary to produce only the unique string values from fruits."
   ]
  },
  {
   "cell_type": "code",
   "execution_count": 37,
   "id": "55699ee1-6278-4dd9-adf9-abff11e8dc6f",
   "metadata": {
    "tags": []
   },
   "outputs": [
    {
     "name": "stdout",
     "output_type": "stream",
     "text": [
      "Unique fruits\n",
      "['kiwi' 'mango' 'strawberry' 'pineapple' 'gala apple' 'honeycrisp apple'\n",
      " 'tomato' 'watermelon' 'honeydew' 'blueberry' 'blackberry' 'gooseberry'\n",
      " 'papaya']\n"
     ]
    }
   ],
   "source": [
    "print(\"Unique fruits\")\n",
    "print(fruits.unique())"
   ]
  },
  {
   "cell_type": "markdown",
   "id": "3a8d5ffe-a207-462b-97b9-435df769f0e4",
   "metadata": {},
   "source": [
    "# 8. Determine how many times each unique string value occurs in fruits"
   ]
  },
  {
   "cell_type": "code",
   "execution_count": 147,
   "id": "3457bee7-a336-4b59-b17b-b5308149a833",
   "metadata": {
    "tags": []
   },
   "outputs": [
    {
     "name": "stdout",
     "output_type": "stream",
     "text": [
      "14          blackberry\n",
      "13           blueberry\n",
      "4           gala apple\n",
      "15          gooseberry\n",
      "5     honeycrisp apple\n",
      "8             honeydew\n",
      "11                kiwi\n",
      "10                kiwi\n",
      "9                 kiwi\n",
      "0                 kiwi\n",
      "12               mango\n",
      "1                mango\n",
      "16              papaya\n",
      "3            pineapple\n",
      "2           strawberry\n",
      "6               tomato\n",
      "7           watermelon\n",
      "dtype: object\n",
      "kiwi                4\n",
      "mango               2\n",
      "strawberry          1\n",
      "pineapple           1\n",
      "gala apple          1\n",
      "honeycrisp apple    1\n",
      "tomato              1\n",
      "watermelon          1\n",
      "honeydew            1\n",
      "blueberry           1\n",
      "blackberry          1\n",
      "gooseberry          1\n",
      "papaya              1\n",
      "Name: count, dtype: int64\n"
     ]
    }
   ],
   "source": [
    "print(fruits.value_counts())"
   ]
  },
  {
   "cell_type": "markdown",
   "id": "b3d5206c-9e27-481a-8a82-2194d6246e65",
   "metadata": {},
   "source": [
    "# 9. Determine the string value that occurs most frequently in fruits."
   ]
  },
  {
   "cell_type": "code",
   "execution_count": 46,
   "id": "e2421d0f-3214-40e3-9c06-27919242fb3b",
   "metadata": {
    "tags": []
   },
   "outputs": [
    {
     "name": "stdout",
     "output_type": "stream",
     "text": [
      "kiwi\n"
     ]
    }
   ],
   "source": [
    "print(fruits.value_counts().idxmax())"
   ]
  },
  {
   "cell_type": "markdown",
   "id": "827cdabc-2bed-4cb2-bbf7-c273e48c6b46",
   "metadata": {},
   "source": [
    "# 10. Determine the string value that occurs least frequently in fruits."
   ]
  },
  {
   "cell_type": "code",
   "execution_count": 157,
   "id": "6f0c8218-3e50-4267-8e35-bf95121ef698",
   "metadata": {
    "tags": []
   },
   "outputs": [
    {
     "name": "stdout",
     "output_type": "stream",
     "text": [
      "14          blackberry\n",
      "13           blueberry\n",
      "4           gala apple\n",
      "15          gooseberry\n",
      "5     honeycrisp apple\n",
      "8             honeydew\n",
      "11                kiwi\n",
      "10                kiwi\n",
      "9                 kiwi\n",
      "0                 kiwi\n",
      "12               mango\n",
      "1                mango\n",
      "16              papaya\n",
      "3            pineapple\n",
      "2           strawberry\n",
      "6               tomato\n",
      "7           watermelon\n",
      "dtype: object\n",
      "blackberry\n"
     ]
    }
   ],
   "source": [
    "# This gives you the string value that occurs least frequently in the \"fruits\" Series.\n",
    "print(fruits.sort_values())\n",
    "print(fruits.sort_values().value_counts().nsmallest(1).index[0])"
   ]
  },
  {
   "cell_type": "markdown",
   "id": "56ad7988-ad05-4a08-8a46-6927d84ae960",
   "metadata": {},
   "source": [
    "# Exercise Part II"
   ]
  },
  {
   "cell_type": "markdown",
   "id": "7fb2df5e-1a75-474f-88bc-ce3de31431ba",
   "metadata": {},
   "source": [
    "# 1. Capitalize all the string values in fruits."
   ]
  },
  {
   "cell_type": "code",
   "execution_count": 50,
   "id": "1344e80e-958c-48da-acf6-828b77e2ff61",
   "metadata": {
    "tags": []
   },
   "outputs": [
    {
     "name": "stdout",
     "output_type": "stream",
     "text": [
      "0                 KIWI\n",
      "1                MANGO\n",
      "2           STRAWBERRY\n",
      "3            PINEAPPLE\n",
      "4           GALA APPLE\n",
      "5     HONEYCRISP APPLE\n",
      "6               TOMATO\n",
      "7           WATERMELON\n",
      "8             HONEYDEW\n",
      "9                 KIWI\n",
      "10                KIWI\n",
      "11                KIWI\n",
      "12               MANGO\n",
      "13           BLUEBERRY\n",
      "14          BLACKBERRY\n",
      "15          GOOSEBERRY\n",
      "16              PAPAYA\n",
      "dtype: object\n"
     ]
    }
   ],
   "source": [
    "print(fruits.str.upper())"
   ]
  },
  {
   "cell_type": "markdown",
   "id": "ae51b9c6-e700-4470-9ae3-72c0e8a96633",
   "metadata": {},
   "source": [
    "# 2. Count the letter \"a\" in all the string values (use string vectorization)."
   ]
  },
  {
   "cell_type": "code",
   "execution_count": 52,
   "id": "4d0fff6a-90f5-40a6-b3db-90e6f2190d8f",
   "metadata": {
    "tags": []
   },
   "outputs": [
    {
     "name": "stdout",
     "output_type": "stream",
     "text": [
      "0     0\n",
      "1     1\n",
      "2     1\n",
      "3     1\n",
      "4     3\n",
      "5     1\n",
      "6     1\n",
      "7     1\n",
      "8     0\n",
      "9     0\n",
      "10    0\n",
      "11    0\n",
      "12    1\n",
      "13    0\n",
      "14    1\n",
      "15    0\n",
      "16    3\n",
      "dtype: int64\n",
      "\n",
      "\n",
      "              Fruits  Count of \"a\"\n",
      "0               kiwi             0\n",
      "1              mango             1\n",
      "2         strawberry             1\n",
      "3          pineapple             1\n",
      "4         gala apple             3\n",
      "5   honeycrisp apple             1\n",
      "6             tomato             1\n",
      "7         watermelon             1\n",
      "8           honeydew             0\n",
      "9               kiwi             0\n",
      "10              kiwi             0\n",
      "11              kiwi             0\n",
      "12             mango             1\n",
      "13         blueberry             0\n",
      "14        blackberry             1\n",
      "15        gooseberry             0\n",
      "16            papaya             3\n"
     ]
    }
   ],
   "source": [
    "print(fruits.str.count(\"a\"))\n",
    "print(\"\\n\")\n",
    "print(pd.DataFrame({'Fruits':fruits, 'Count of \"a\"':fruits.str.count(\"a\")}))"
   ]
  },
  {
   "cell_type": "markdown",
   "id": "40fec04c-2da3-469c-8fef-a47f56c05f34",
   "metadata": {},
   "source": [
    "# 3. Output the number of vowels in each and every string value."
   ]
  },
  {
   "cell_type": "code",
   "execution_count": 102,
   "id": "4ca610de-ce89-4a9c-b937-7e418d2438a9",
   "metadata": {
    "tags": []
   },
   "outputs": [
    {
     "name": "stdout",
     "output_type": "stream",
     "text": [
      "              Fruits  Vowel Count\n",
      "0               kiwi            2\n",
      "1              mango            2\n",
      "2         strawberry            2\n",
      "3          pineapple            4\n",
      "4         gala apple            4\n",
      "5   honeycrisp apple            5\n",
      "6             tomato            3\n",
      "7         watermelon            4\n",
      "8           honeydew            3\n",
      "9               kiwi            2\n",
      "10              kiwi            2\n",
      "11              kiwi            2\n",
      "12             mango            2\n",
      "13         blueberry            3\n",
      "14        blackberry            2\n",
      "15        gooseberry            4\n",
      "16            papaya            3\n"
     ]
    }
   ],
   "source": [
    "def count_vowels(value):\n",
    "    vowels = 'aeiouAEIOU'\n",
    "    return sum(value.count(vowel) for vowel in vowels)\n",
    "\n",
    "print(pd.DataFrame({'Fruits':fruits, 'Vowel Count':fruits.apply(count_vowels)}))"
   ]
  },
  {
   "cell_type": "markdown",
   "id": "7ac8eaf7-f193-4998-a23d-cf5c86427320",
   "metadata": {},
   "source": [
    "# 4. Write the code to get the longest string value from fruits."
   ]
  },
  {
   "cell_type": "code",
   "execution_count": 72,
   "id": "a02436ab-18b4-4408-b670-6aa34ebfce7e",
   "metadata": {
    "tags": []
   },
   "outputs": [
    {
     "name": "stdout",
     "output_type": "stream",
     "text": [
      "honeycrisp apple\n",
      "16\n"
     ]
    }
   ],
   "source": [
    "longest_fruit = \"\"\n",
    "\n",
    "for fruit in fruits:\n",
    "    if len(fruit) > len(longest_fruit):\n",
    "        longest_fruit = fruit\n",
    "        \n",
    "print(longest_fruit)\n",
    "print(len(longest_fruit))\n",
    "\n",
    "\n"
   ]
  },
  {
   "cell_type": "markdown",
   "id": "310bc780-461f-471e-9155-93fee6d590fb",
   "metadata": {},
   "source": [
    "# 5. Write the code to get the string values with 5 or more letters in the name."
   ]
  },
  {
   "cell_type": "code",
   "execution_count": 73,
   "id": "0e510365-2f23-4e9d-97c3-f742107ebc2a",
   "metadata": {
    "tags": []
   },
   "outputs": [
    {
     "name": "stdout",
     "output_type": "stream",
     "text": [
      "1                mango\n",
      "2           strawberry\n",
      "3            pineapple\n",
      "4           gala apple\n",
      "5     honeycrisp apple\n",
      "6               tomato\n",
      "7           watermelon\n",
      "8             honeydew\n",
      "12               mango\n",
      "13           blueberry\n",
      "14          blackberry\n",
      "15          gooseberry\n",
      "16              papaya\n",
      "dtype: object\n"
     ]
    }
   ],
   "source": [
    "five_letter_fruit = \"\"\n",
    "\n",
    "five_letter_fruit = fruits[fruits.str.len() >= 5]\n",
    "\n",
    "print(five_letter_fruit)\n",
    "        "
   ]
  },
  {
   "cell_type": "markdown",
   "id": "094586d3-183b-4071-bd3d-c9d36996dfc3",
   "metadata": {},
   "source": [
    "# 6. Find the fruit(s) containing the letter \"o\" two or more times."
   ]
  },
  {
   "cell_type": "code",
   "execution_count": 82,
   "id": "f5704cca-066b-4616-b785-f2eb86f4c0aa",
   "metadata": {
    "tags": []
   },
   "outputs": [
    {
     "name": "stdout",
     "output_type": "stream",
     "text": [
      "6         tomato\n",
      "15    gooseberry\n",
      "dtype: object\n"
     ]
    }
   ],
   "source": [
    "o_fruits = fruits[fruits.str.count(\"o\") >= 2]\n",
    "\n",
    "print(o_fruits)"
   ]
  },
  {
   "cell_type": "markdown",
   "id": "d91f0903-76ae-4ee3-ba5f-d28f3bb82cee",
   "metadata": {},
   "source": [
    "# 7. Write the code to get only the string values containing the substring \"berry\"."
   ]
  },
  {
   "cell_type": "code",
   "execution_count": 83,
   "id": "84f7609a-bae4-44d4-a329-dcd754413830",
   "metadata": {
    "tags": []
   },
   "outputs": [
    {
     "name": "stdout",
     "output_type": "stream",
     "text": [
      "2     strawberry\n",
      "13     blueberry\n",
      "14    blackberry\n",
      "15    gooseberry\n",
      "dtype: object\n"
     ]
    }
   ],
   "source": [
    "berry_fruit = fruits[fruits.str.contains(\"berry\")]\n",
    "\n",
    "print(berry_fruit)"
   ]
  },
  {
   "cell_type": "markdown",
   "id": "4daa4bde-5b7d-4705-9e9b-929b499604d2",
   "metadata": {},
   "source": [
    "# 8. Write the code to get only the string values containing the substring \"apple\"."
   ]
  },
  {
   "cell_type": "code",
   "execution_count": 84,
   "id": "8e55cdbb-88ba-4e86-bb0b-c1e94a343e23",
   "metadata": {
    "tags": []
   },
   "outputs": [
    {
     "name": "stdout",
     "output_type": "stream",
     "text": [
      "3           pineapple\n",
      "4          gala apple\n",
      "5    honeycrisp apple\n",
      "dtype: object\n"
     ]
    }
   ],
   "source": [
    "apple_fruit = fruits[fruits.str.contains(\"apple\")]\n",
    "\n",
    "print(apple_fruit)"
   ]
  },
  {
   "cell_type": "markdown",
   "id": "a2b62d0b-ed2c-43af-9560-b2586bf7af1b",
   "metadata": {},
   "source": [
    "# 9. Which string value contains the most vowels?"
   ]
  },
  {
   "cell_type": "code",
   "execution_count": 92,
   "id": "e37810d4-d3db-418d-92bb-5a2ad1a26702",
   "metadata": {
    "tags": []
   },
   "outputs": [
    {
     "name": "stdout",
     "output_type": "stream",
     "text": [
      "honeycrisp apple\n"
     ]
    }
   ],
   "source": [
    "def count_vowels(value):\n",
    "    vowels = 'aeiouAEIOU'\n",
    "    return sum(value.count(vowel) for vowel in vowels)\n",
    "\n",
    "vowel_counts = fruits.apply(count_vowels)\n",
    "\n",
    "index_of_max_vowels = vowel_counts.idxmax()\n",
    "\n",
    "fruit_with_the_most_vowels = fruits[index_of_max_vowels]\n",
    "\n",
    "print(fruit_with_the_most_vowels)\n"
   ]
  },
  {
   "cell_type": "markdown",
   "id": "cf60dcc4-3fc2-4f17-9a0b-27103dc21e59",
   "metadata": {},
   "source": [
    "# Use pandas to create a Series named letters from the following string. The easiest way to make this string into a Pandas series is to use list to convert each individual letter into a single string on a basic Python list.\n",
    "\n",
    "'hnvidduckkqxwymbimkccexbkmqygkxoyndmcxnwqarhyffsjpsrabtjzsypmzadfavyrnndndvswreauxovncxtwzpwejilzjrmmbbgbyxvjtewqthafnbkqplarokkyydtubbmnexoypulzwfhqvckdpqtpoppzqrmcvhhpwgjwupgzhiofohawytlsiyecuproguy'"
   ]
  },
  {
   "cell_type": "code",
   "execution_count": 122,
   "id": "62cf6b0f-c210-44e2-83d9-b7384b373400",
   "metadata": {
    "tags": []
   },
   "outputs": [
    {
     "name": "stdout",
     "output_type": "stream",
     "text": [
      "0      h\n",
      "1      n\n",
      "2      v\n",
      "3      i\n",
      "4      d\n",
      "      ..\n",
      "195    r\n",
      "196    o\n",
      "197    g\n",
      "198    u\n",
      "199    y\n",
      "Length: 200, dtype: object\n"
     ]
    }
   ],
   "source": [
    "text = 'hnvidduckkqxwymbimkccexbkmqygkxoyndmcxnwqarhyffsjpsrabtjzsypmzadfavyrnndndvswreauxovncxtwzpwejilzjrmmbbgbyxvjtewqthafnbkqplarokkyydtubbmnexoypulzwfhqvckdpqtpoppzqrmcvhhpwgjwupgzhiofohawytlsiyecuproguy'\n",
    "\n",
    "letters = pd.Series(list(text))\n",
    "\n",
    "print(letters)"
   ]
  },
  {
   "cell_type": "markdown",
   "id": "ea4f3029-ba12-4125-83ef-e5415da515da",
   "metadata": {},
   "source": [
    "# 1. Which letter occurs the most frequently in the letters Series?"
   ]
  },
  {
   "cell_type": "code",
   "execution_count": 100,
   "id": "6d6e9330-1cf9-4303-a22b-5679fa4bb0ec",
   "metadata": {
    "tags": []
   },
   "outputs": [
    {
     "name": "stdout",
     "output_type": "stream",
     "text": [
      "y    13\n",
      "p    12\n",
      "w    10\n",
      "b     9\n",
      "n     9\n",
      "k     9\n",
      "m     9\n",
      "r     8\n",
      "a     8\n",
      "o     8\n",
      "h     8\n",
      "x     8\n",
      "q     8\n",
      "c     8\n",
      "d     8\n",
      "u     7\n",
      "v     7\n",
      "t     7\n",
      "z     7\n",
      "e     6\n",
      "f     6\n",
      "j     6\n",
      "g     5\n",
      "i     5\n",
      "s     5\n",
      "l     4\n",
      "Name: count, dtype: int64\n",
      "y\n"
     ]
    }
   ],
   "source": [
    "print(letters.value_counts())\n",
    "print(letters.value_counts().idxmax())"
   ]
  },
  {
   "cell_type": "markdown",
   "id": "98f83a8b-a16a-4c79-b4a4-0ae7c2c46f06",
   "metadata": {},
   "source": [
    "# 2. Which letter occurs the Least frequently?"
   ]
  },
  {
   "cell_type": "code",
   "execution_count": 99,
   "id": "b1022460-e14f-4c5c-aba7-b4371915942e",
   "metadata": {
    "tags": []
   },
   "outputs": [
    {
     "name": "stdout",
     "output_type": "stream",
     "text": [
      "l\n"
     ]
    }
   ],
   "source": [
    "print(letters.value_counts().idxmin())"
   ]
  },
  {
   "cell_type": "markdown",
   "id": "8d91fcae-72ed-4c8e-84f1-b7661f52fa6a",
   "metadata": {},
   "source": [
    "# 3. How many vowels are in the Series?"
   ]
  },
  {
   "cell_type": "code",
   "execution_count": 103,
   "id": "f572ef6c-9f1f-4e06-805a-424e9bad575b",
   "metadata": {
    "tags": []
   },
   "outputs": [
    {
     "name": "stdout",
     "output_type": "stream",
     "text": [
      "34\n"
     ]
    }
   ],
   "source": [
    "print(letters.str.count('[aeiou]').sum())"
   ]
  },
  {
   "cell_type": "markdown",
   "id": "5c1d1fa5-90c3-498e-b46f-eb1a231e0c5a",
   "metadata": {},
   "source": [
    "# 4. How many consonants are in the Series?"
   ]
  },
  {
   "cell_type": "code",
   "execution_count": 106,
   "id": "be3d2071-06f6-47bd-904d-bb4f2c34607d",
   "metadata": {
    "tags": []
   },
   "outputs": [
    {
     "name": "stdout",
     "output_type": "stream",
     "text": [
      "166\n"
     ]
    }
   ],
   "source": [
    "# The '^' inside the character class inverts the match, so it matches characters that are not in the specified list of vowels.\n",
    "print(letters.str.count('[^aeiou]').sum())"
   ]
  },
  {
   "cell_type": "markdown",
   "id": "5239c4a2-6068-4a99-b00f-debe4d76e491",
   "metadata": {},
   "source": [
    "# 5. Create a Series that has all of the same letters but uppercased."
   ]
  },
  {
   "cell_type": "code",
   "execution_count": 121,
   "id": "337b171c-afb2-4d4a-bd2a-998afff3dc44",
   "metadata": {
    "tags": []
   },
   "outputs": [
    {
     "name": "stdout",
     "output_type": "stream",
     "text": [
      "0    HNVIDDUCKKQXWYMBIMKCCEXBKMQYGKXOYNDMCXNWQARHYF...\n",
      "dtype: object\n"
     ]
    }
   ],
   "source": [
    "print(letters.str.upper())"
   ]
  },
  {
   "cell_type": "markdown",
   "id": "fd806ae2-744c-4d6c-8390-da8d0723b5bf",
   "metadata": {},
   "source": [
    "# 6. Create a bar plot of the frequencies of the 6 most commonly occuring letters."
   ]
  },
  {
   "cell_type": "code",
   "execution_count": 124,
   "id": "abb5f9d5-0cc1-48c2-af1a-1b96a5f13dd1",
   "metadata": {
    "tags": []
   },
   "outputs": [
    {
     "data": {
      "image/png": "[encoded data removed]",
      "text/plain": [
       "<Figure size 640x480 with 1 Axes>"
      ]
     },
     "metadata": {},
     "output_type": "display_data"
    }
   ],
   "source": [
    "import matplotlib.pyplot as plt\n",
    "\n",
    "most_common_letters = letters.value_counts().head(6)\n",
    "\n",
    "most_common_letters.plot(kind='bar')\n",
    "\n",
    "plt.xlabel('Letters')\n",
    "plt.ylabel('Frequency')\n",
    "plt.title('Frequency of 6 Most Common Letters')\n",
    "\n",
    "plt.show()"
   ]
  },
  {
   "cell_type": "markdown",
   "id": "c3f46845-1252-4912-98fe-f0fd2a5aa187",
   "metadata": {},
   "source": [
    "# Use pandas to create a Series named numbers from the following list:\n",
    "\n",
    "['$796,459.41', '$278.60', '$482,571.67', '$4,503,915.98', '$2,121,418.3', '$1,260,813.3', '$87,231.01', '$1,509,175.45', '$4,138,548.00', '$2,848,913.80', '$594,715.39', '$4,789,988.17', '$4,513,644.5', '$3,191,059.97', '$1,758,712.24', '$4,338,283.54', '$4,738,303.38', '$2,791,759.67', '$769,681.94', '$452,650.23']"
   ]
  },
  {
   "cell_type": "code",
   "execution_count": 5,
   "id": "74f1f527-d485-4730-a605-123530660456",
   "metadata": {
    "tags": []
   },
   "outputs": [
    {
     "name": "stdout",
     "output_type": "stream",
     "text": [
      "0       $796,459.41\n",
      "1           $278.60\n",
      "2       $482,571.67\n",
      "3     $4,503,915.98\n",
      "4      $2,121,418.3\n",
      "5      $1,260,813.3\n",
      "6        $87,231.01\n",
      "7     $1,509,175.45\n",
      "8     $4,138,548.00\n",
      "9     $2,848,913.80\n",
      "10      $594,715.39\n",
      "11    $4,789,988.17\n",
      "12     $4,513,644.5\n",
      "13    $3,191,059.97\n",
      "14    $1,758,712.24\n",
      "15    $4,338,283.54\n",
      "16    $4,738,303.38\n",
      "17    $2,791,759.67\n",
      "18      $769,681.94\n",
      "19      $452,650.23\n",
      "dtype: object\n"
     ]
    }
   ],
   "source": [
    "dollars = ['$796,459.41', '$278.60', '$482,571.67', '$4,503,915.98', '$2,121,418.3', '$1,260,813.3', '$87,231.01', '$1,509,175.45', '$4,138,548.00', '$2,848,913.80', '$594,715.39', '$4,789,988.17', '$4,513,644.5', '$3,191,059.97', '$1,758,712.24', '$4,338,283.54', '$4,738,303.38', '$2,791,759.67', '$769,681.94', '$452,650.23']\n",
    "\n",
    "numbers = pd.Series(dollars)\n",
    "\n",
    "print(numbers)"
   ]
  },
  {
   "cell_type": "markdown",
   "id": "58c73506-2a3b-4398-8f6c-40a66a1241fc",
   "metadata": {},
   "source": [
    "# 1. What is the data type of the numbers Series?"
   ]
  },
  {
   "cell_type": "code",
   "execution_count": 6,
   "id": "2b008077-c553-475c-8eb7-0acb8904f83d",
   "metadata": {
    "tags": []
   },
   "outputs": [
    {
     "data": {
      "text/plain": [
       "numpy.dtype[object_]"
      ]
     },
     "execution_count": 6,
     "metadata": {},
     "output_type": "execute_result"
    }
   ],
   "source": [
    "type(numbers.dtype)"
   ]
  },
  {
   "cell_type": "markdown",
   "id": "084648b9-6334-4de3-bf14-48d4968e60ac",
   "metadata": {},
   "source": [
    "# 2. How many elements are in the number Series?"
   ]
  },
  {
   "cell_type": "markdown",
   "id": "4823d510-4c11-466f-8ff5-3a32ee8f53b4",
   "metadata": {},
   "source": [
    "20"
   ]
  },
  {
   "cell_type": "markdown",
   "id": "0de15ced-51fb-45a5-ba4a-0e487c9d841f",
   "metadata": {},
   "source": [
    "# 3. Perform the necessary manipulations by accessing Series attributes and methods to convert the numbers Series to a numeric data type."
   ]
  },
  {
   "cell_type": "code",
   "execution_count": 8,
   "id": "ef967348-3be7-4d8b-b877-3845ece77420",
   "metadata": {
    "tags": []
   },
   "outputs": [
    {
     "name": "stdout",
     "output_type": "stream",
     "text": [
      "0      796459.41\n",
      "1         278.60\n",
      "2      482571.67\n",
      "3     4503915.98\n",
      "4     2121418.30\n",
      "5     1260813.30\n",
      "6       87231.01\n",
      "7     1509175.45\n",
      "8     4138548.00\n",
      "9     2848913.80\n",
      "10     594715.39\n",
      "11    4789988.17\n",
      "12    4513644.50\n",
      "13    3191059.97\n",
      "14    1758712.24\n",
      "15    4338283.54\n",
      "16    4738303.38\n",
      "17    2791759.67\n",
      "18     769681.94\n",
      "19     452650.23\n",
      "dtype: float64\n"
     ]
    }
   ],
   "source": [
    "numbers = pd.to_numeric(numbers.str.replace('[\\$,]', '', regex=True))\n",
    "print(numbers)"
   ]
  },
  {
   "cell_type": "markdown",
   "id": "b3b2c0df-4833-46d7-8778-bfb0b490c927",
   "metadata": {},
   "source": [
    "# 4. Run the code to discover the maximum value from the Series."
   ]
  },
  {
   "cell_type": "code",
   "execution_count": 9,
   "id": "8e2bbbf9-c24f-4629-8b08-1d461c2adcd7",
   "metadata": {
    "tags": []
   },
   "outputs": [
    {
     "data": {
      "text/plain": [
       "4789988.17"
      ]
     },
     "execution_count": 9,
     "metadata": {},
     "output_type": "execute_result"
    }
   ],
   "source": [
    "numbers.max()"
   ]
  },
  {
   "cell_type": "markdown",
   "id": "7fb25c6d-17ac-4670-87f8-f19f02cd6601",
   "metadata": {},
   "source": [
    "# 5. Run the code to discover the minimum value from the Series."
   ]
  },
  {
   "cell_type": "code",
   "execution_count": 10,
   "id": "dd9d9ece-0261-4d7a-b7ad-8d71114b97ec",
   "metadata": {
    "tags": []
   },
   "outputs": [
    {
     "data": {
      "text/plain": [
       "278.6"
      ]
     },
     "execution_count": 10,
     "metadata": {},
     "output_type": "execute_result"
    }
   ],
   "source": [
    "numbers.min()"
   ]
  },
  {
   "cell_type": "markdown",
   "id": "2c1b2bd7-22b3-43dc-aae0-568e6256d01d",
   "metadata": {
    "tags": []
   },
   "source": [
    "# 6. What is the range of the values in the Series?"
   ]
  },
  {
   "cell_type": "code",
   "execution_count": 11,
   "id": "9c69e42a-1d04-49a3-b882-6fdb7a52eb2d",
   "metadata": {
    "tags": []
   },
   "outputs": [
    {
     "name": "stdout",
     "output_type": "stream",
     "text": [
      "4789709.57\n"
     ]
    }
   ],
   "source": [
    "range_of_values = numbers.max() - numbers.min()\n",
    "print(range_of_values)"
   ]
  },
  {
   "cell_type": "markdown",
   "id": "97d7cdf9-051b-4c4d-9653-581a1d84cc38",
   "metadata": {},
   "source": [
    "# 7. Bin the data into 4 equally sized intervals or bins and output how many values fall into each bin."
   ]
  },
  {
   "cell_type": "code",
   "execution_count": 12,
   "id": "01640728-45c5-4964-a851-dd92bf448df7",
   "metadata": {
    "tags": []
   },
   "outputs": [
    {
     "name": "stdout",
     "output_type": "stream",
     "text": [
      "(-4511.11, 1197705.993]       7\n",
      "(3592560.778, 4789988.17]     6\n",
      "(1197705.993, 2395133.385]    4\n",
      "(2395133.385, 3592560.778]    3\n",
      "Name: count, dtype: int64\n"
     ]
    }
   ],
   "source": [
    "bins = pd.cut(numbers, bins=4)\n",
    "bin_counts = bins.value_counts()\n",
    "\n",
    "print(bin_counts)"
   ]
  },
  {
   "cell_type": "markdown",
   "id": "346580cc-0e99-48bc-ba5e-2470fd7bd345",
   "metadata": {
    "tags": []
   },
   "source": [
    "# 8. Plot the binned data in a meaningful way. Be sure to include a title and axis labels"
   ]
  },
  {
   "cell_type": "code",
   "execution_count": 15,
   "id": "74156d2b-3900-4b4e-8487-fb75fb89c727",
   "metadata": {
    "tags": []
   },
   "outputs": [
    {
     "data": {
      "image/png": "[encoded data removed]",
      "text/plain": [
       "<Figure size 640x480 with 1 Axes>"
      ]
     },
     "metadata": {},
     "output_type": "display_data"
    }
   ],
   "source": [
    "import matplotlib.pyplot as plt\n",
    "\n",
    "bins.value_counts().sort_index().plot(kind='barh')\n",
    "plt.title('Series Composition After Binning')\n",
    "plt.xlabel('[Count]')\n",
    "plt.ylabel('[$ bins]')\n",
    "plt.show()"
   ]
  },
  {
   "cell_type": "markdown",
   "id": "0b91e020-3567-4c66-8909-e81d7bc06e16",
   "metadata": {},
   "source": [
    "Use pandas to create a Series named exam_scores from the following list:"
   ]
  },
  {
   "cell_type": "code",
   "execution_count": 16,
   "id": "a3e24305-0a47-48e2-ab9f-d76b8bb1710d",
   "metadata": {
    "tags": []
   },
   "outputs": [],
   "source": [
    "exam_scores = pd.Series([60, 86, 75, 62, 93, 71, 60, 83, 95, 78, 65, 72, 69, 81, 96, 80, 85, 92, 82, 78])\n"
   ]
  },
  {
   "cell_type": "markdown",
   "id": "c5ef5ea4-9a64-4df8-92bc-4e1cb3bc10dc",
   "metadata": {},
   "source": [
    "1. How many elements are in the exam_scores Series?"
   ]
  },
  {
   "cell_type": "code",
   "execution_count": 17,
   "id": "1bf4e9d9-ef14-4ca5-85a1-c477958d086f",
   "metadata": {
    "tags": []
   },
   "outputs": [
    {
     "data": {
      "text/plain": [
       "20"
      ]
     },
     "execution_count": 17,
     "metadata": {},
     "output_type": "execute_result"
    }
   ],
   "source": [
    "exam_scores.size"
   ]
  },
  {
   "cell_type": "markdown",
   "id": "74331b22-d338-4648-b935-a0f9821b6372",
   "metadata": {},
   "source": [
    "2. Run the code to discover the minimum, the maximum, the mean, and the median scores for the exam_scores Series."
   ]
  },
  {
   "cell_type": "code",
   "execution_count": 18,
   "id": "28508d24-9f8c-4a59-84e6-f017e98f7eb4",
   "metadata": {
    "tags": []
   },
   "outputs": [
    {
     "data": {
      "text/plain": [
       "count    20.000000\n",
       "mean     78.150000\n",
       "std      11.352139\n",
       "min      60.000000\n",
       "25%      70.500000\n",
       "50%      79.000000\n",
       "75%      85.250000\n",
       "max      96.000000\n",
       "dtype: float64"
      ]
     },
     "execution_count": 18,
     "metadata": {},
     "output_type": "execute_result"
    }
   ],
   "source": [
    "exam_scores.describe()"
   ]
  },
  {
   "cell_type": "code",
   "execution_count": 19,
   "id": "bbc23430-0451-425e-a904-580fd5690bb1",
   "metadata": {
    "tags": []
   },
   "outputs": [
    {
     "data": {
      "text/plain": [
       "79.0"
      ]
     },
     "execution_count": 19,
     "metadata": {},
     "output_type": "execute_result"
    }
   ],
   "source": [
    "exam_scores.median()"
   ]
  },
  {
   "cell_type": "markdown",
   "id": "b3171d83-7afc-446f-8f0d-bec7edb11600",
   "metadata": {},
   "source": [
    "3. Plot the Series in a meaningful way and make sure your chart has a title and axis labels."
   ]
  },
  {
   "cell_type": "code",
   "execution_count": 20,
   "id": "02b1a5f3-47ad-4ecf-af0c-5fbd5fd5c7f1",
   "metadata": {
    "tags": []
   },
   "outputs": [
    {
     "data": {
      "image/png": "[encoded data removed]",
      "text/plain": [
       "<Figure size 640x480 with 1 Axes>"
      ]
     },
     "metadata": {},
     "output_type": "display_data"
    }
   ],
   "source": [
    "exam_scores.plot(kind='hist',edgecolor='k')\n",
    "plt.title('Distribution of Exam Scores')\n",
    "plt.xlabel('Scores')\n",
    "plt.show()"
   ]
  },
  {
   "cell_type": "markdown",
   "id": "8e3bedf9-2f2c-4aed-a7da-c68cea2f18d0",
   "metadata": {},
   "source": [
    "4. Write the code necessary to implement a curve for your exam_grades Series and save this as curved_grades. Add the necessary points to the highest grade to make it 100, and add the same number of points to every other score in the Series as well."
   ]
  },
  {
   "cell_type": "code",
   "execution_count": 22,
   "id": "c9d9bd76-9df9-4a38-b602-26f4644cb341",
   "metadata": {
    "tags": []
   },
   "outputs": [
    {
     "data": {
      "text/plain": [
       "96"
      ]
     },
     "execution_count": 22,
     "metadata": {},
     "output_type": "execute_result"
    }
   ],
   "source": [
    "exam_scores.max()"
   ]
  },
  {
   "cell_type": "code",
   "execution_count": 21,
   "id": "7397b98c-feab-437e-8149-455686e72907",
   "metadata": {
    "tags": []
   },
   "outputs": [
    {
     "name": "stdout",
     "output_type": "stream",
     "text": [
      "Original Grades:\n",
      " 0     60\n",
      "1     86\n",
      "2     75\n",
      "3     62\n",
      "4     93\n",
      "5     71\n",
      "6     60\n",
      "7     83\n",
      "8     95\n",
      "9     78\n",
      "10    65\n",
      "11    72\n",
      "12    69\n",
      "13    81\n",
      "14    96\n",
      "15    80\n",
      "16    85\n",
      "17    92\n",
      "18    82\n",
      "19    78\n",
      "dtype: int64\n",
      "\n",
      "Curved Grades:\n",
      " 0      64\n",
      "1      90\n",
      "2      79\n",
      "3      66\n",
      "4      97\n",
      "5      75\n",
      "6      64\n",
      "7      87\n",
      "8      99\n",
      "9      82\n",
      "10     69\n",
      "11     76\n",
      "12     73\n",
      "13     85\n",
      "14    100\n",
      "15     84\n",
      "16     89\n",
      "17     96\n",
      "18     86\n",
      "19     82\n",
      "dtype: int64\n"
     ]
    }
   ],
   "source": [
    "pts_to_add = 100 - exam_scores.max()\n",
    "\n",
    "\n",
    "print(f'Original Grades:\\n {exam_scores}')\n",
    "\n",
    "curved_grades = exam_scores + pts_to_add\n",
    "\n",
    "print(f'\\nCurved Grades:\\n {curved_grades}')"
   ]
  },
  {
   "cell_type": "markdown",
   "id": "38d045d4-a0ba-4b00-bf88-2f843cdb0463",
   "metadata": {},
   "source": [
    "5. Use a method to convert each of the numeric values in the curved_grades Series into a categorical value of letter grades. For example, 86 should be a 'B' and 95 should be an 'A'. Save this as a Series named letter_grades."
   ]
  },
  {
   "cell_type": "code",
   "execution_count": 26,
   "id": "51710c1e-fdc8-4c8e-aeb4-abff5f55cd33",
   "metadata": {
    "tags": []
   },
   "outputs": [
    {
     "name": "stdout",
     "output_type": "stream",
     "text": [
      "B\n"
     ]
    }
   ],
   "source": [
    "def get_letter_grade(num_grade):\n",
    "    if 88 <= num_grade <= 100:\n",
    "        return print(\"A\")\n",
    "    elif 80 <= num_grade <= 87:\n",
    "        return print(\"B\")\n",
    "    elif 67 <= num_grade <= 79:\n",
    "        return print(\"C\")\n",
    "    elif 60 <= num_grade <= 66:\n",
    "        return print(\"D\")\n",
    "    elif 0 <= num_grade <= 59:\n",
    "        return print(\"F\")\n",
    "    else:\n",
    "        print(\"Invalid input. Please enter a numerical grade between 0 and 100. \")\n",
    "\n",
    "get_letter_grade(86)"
   ]
  },
  {
   "cell_type": "markdown",
   "id": "f5d1c995-ff71-4713-8fb2-b7e248309064",
   "metadata": {},
   "source": [
    "6. Plot your new categorical letter_grades Series in a meaninful way and include a title and axis labels."
   ]
  },
  {
   "cell_type": "code",
   "execution_count": 28,
   "id": "c8c0005e-a017-4f59-a74e-2fbc9fd1f3f0",
   "metadata": {
    "tags": []
   },
   "outputs": [
    {
     "name": "stdout",
     "output_type": "stream",
     "text": [
      "D\n",
      "A\n",
      "C\n",
      "D\n",
      "A\n",
      "C\n",
      "D\n",
      "B\n",
      "A\n",
      "B\n",
      "C\n",
      "C\n",
      "C\n",
      "B\n",
      "A\n",
      "B\n",
      "A\n",
      "A\n",
      "B\n",
      "B\n"
     ]
    },
    {
     "data": {
      "text/plain": [
       "0     None\n",
       "1     None\n",
       "2     None\n",
       "3     None\n",
       "4     None\n",
       "5     None\n",
       "6     None\n",
       "7     None\n",
       "8     None\n",
       "9     None\n",
       "10    None\n",
       "11    None\n",
       "12    None\n",
       "13    None\n",
       "14    None\n",
       "15    None\n",
       "16    None\n",
       "17    None\n",
       "18    None\n",
       "19    None\n",
       "dtype: object"
      ]
     },
     "execution_count": 28,
     "metadata": {},
     "output_type": "execute_result"
    }
   ],
   "source": [
    "letter_grades = curved_grades.apply(get_letter_grade)\n",
    "letter_grades"
   ]
  },
  {
   "cell_type": "code",
   "execution_count": 29,
   "id": "c0d32e03-8e29-4afb-b08e-fa981cb08676",
   "metadata": {
    "tags": []
   },
   "outputs": [
    {
     "data": {
      "text/plain": [
       "0     D\n",
       "1     A\n",
       "2     C\n",
       "3     D\n",
       "4     A\n",
       "5     C\n",
       "6     D\n",
       "7     B\n",
       "8     A\n",
       "9     B\n",
       "10    D\n",
       "11    C\n",
       "12    C\n",
       "13    B\n",
       "14    A\n",
       "15    B\n",
       "16    B\n",
       "17    A\n",
       "18    B\n",
       "19    B\n",
       "dtype: category\n",
       "Categories (5, object): ['F' < 'D' < 'C' < 'B' < 'A']"
      ]
     },
     "execution_count": 29,
     "metadata": {},
     "output_type": "execute_result"
    }
   ],
   "source": [
    "bin_edges = [0, 59, 69, 79, 89,100]\n",
    "bin_labels = ['F', 'D', 'C', 'B', 'A']\n",
    "letter_grades = pd.cut(curved_grades, bins=bin_edges, labels=bin_labels)\n",
    "letter_grades"
   ]
  },
  {
   "cell_type": "code",
   "execution_count": 30,
   "id": "68196f55-650a-4849-9a5e-cc717614193c",
   "metadata": {
    "tags": []
   },
   "outputs": [
    {
     "data": {
      "image/png": "[encoded data removed]",
      "text/plain": [
       "<Figure size 640x480 with 1 Axes>"
      ]
     },
     "metadata": {},
     "output_type": "display_data"
    }
   ],
   "source": [
    "letter_grades.value_counts().sort_index().plot.barh()\n",
    "plt.title('Curved Letter Grade Distribution')\n",
    "plt.show()"
   ]
  },
  {
   "cell_type": "code",
   "execution_count": 31,
   "id": "6e9df0b8-7b9a-4bc6-b047-f1a6034cd608",
   "metadata": {
    "tags": []
   },
   "outputs": [
    {
     "data": {
      "text/plain": [
       "0     F\n",
       "1     B\n",
       "2     C\n",
       "3     F\n",
       "4     A\n",
       "5     D\n",
       "6     F\n",
       "7     B\n",
       "8     A\n",
       "9     B\n",
       "10    F\n",
       "11    C\n",
       "12    D\n",
       "13    B\n",
       "14    A\n",
       "15    B\n",
       "16    B\n",
       "17    A\n",
       "18    B\n",
       "19    B\n",
       "dtype: category\n",
       "Categories (5, object): ['F' < 'D' < 'C' < 'B' < 'A']"
      ]
     },
     "execution_count": 31,
     "metadata": {},
     "output_type": "execute_result"
    }
   ],
   "source": [
    "bin_edges = [0, 70, 75, 80, 90,100]\n",
    "bin_labels = ['F', 'D', 'C', 'B', 'A']\n",
    "letter_grades = pd.cut(curved_grades, bins=bin_edges, labels=bin_labels)\n",
    "letter_grades"
   ]
  },
  {
   "cell_type": "code",
   "execution_count": 32,
   "id": "ec93a95d-fe57-4fa5-9f23-d8c13f89a080",
   "metadata": {
    "tags": []
   },
   "outputs": [
    {
     "data": {
      "image/png": "[encoded data removed]",
      "text/plain": [
       "<Figure size 640x480 with 1 Axes>"
      ]
     },
     "metadata": {},
     "output_type": "display_data"
    }
   ],
   "source": [
    "letter_grades.value_counts().sort_index().plot.barh()\n",
    "plt.title('Curved Letter Grade Distribution')\n",
    "plt.show()"
   ]
  }
 ],
 "metadata": {
  "kernelspec": {
   "display_name": "Python 3 (ipykernel)",
   "language": "python",
   "name": "python3"
  },
  "language_info": {
   "codemirror_mode": {
    "name": "ipython",
    "version": 3
   },
   "file_extension": ".py",
   "mimetype": "text/x-python",
   "name": "python",
   "nbconvert_exporter": "python",
   "pygments_lexer": "ipython3",
   "version": "3.11.5"
  }
 },
 "nbformat": 4,
 "nbformat_minor": 5
}
